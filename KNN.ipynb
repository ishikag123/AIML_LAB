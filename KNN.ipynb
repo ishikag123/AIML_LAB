{
  "nbformat": 4,
  "nbformat_minor": 0,
  "metadata": {
    "colab": {
      "provenance": [],
      "authorship_tag": "ABX9TyMEYsnrK9EbjieEwAfRb4HE"
    },
    "kernelspec": {
      "name": "python3",
      "display_name": "Python 3"
    },
    "language_info": {
      "name": "python"
    }
  },
  "cells": [
    {
      "cell_type": "code",
      "execution_count": null,
      "metadata": {
        "id": "9fdAMbdVR0xC"
      },
      "outputs": [],
      "source": []
    },
    {
      "cell_type": "code",
      "source": [
        "#Data view\n",
        "import matplotlib.pyplot as plt\n",
        "x = [4, 5, 10, 4, 3, 11, 14 , 8, 10, 12]\n",
        "y = [21, 19, 24, 17, 16, 25, 24, 22, 21, 21]\n",
        "classes = [0, 0, 1, 0, 0, 1, 1, 0, 1, 1]\n",
        "print('Data')\n",
        "plt.scatter(x, y)\n",
        "plt.show()\n",
        "print('Classified Data')\n",
        "plt.scatter(x, y, c=classes)\n",
        "plt.show()\n",
        "# KNN for k=1\n",
        "from sklearn.neighbors import KNeighborsClassifier\n",
        "data = list(zip(x, y))\n",
        "knn = KNeighborsClassifier(n_neighbors=1)\n",
        "knn.fit(data, classes)\n",
        "# classify a new data point\n",
        "new_x = int(input(\"Enter new x: \"))\n",
        "new_y = int(input(\"Enter new y: \"))\n",
        "new_point = [(new_x, new_y)]\n",
        "prediction = knn.predict(new_point)\n",
        "print('For k=1')\n",
        "plt.scatter(x + [new_x], y + [new_y], c=classes + [prediction[0]])\n",
        "plt.text(x=new_x-1.7, y=new_y-0.7, s=f\"new point, class: {prediction[0]}\")\n",
        "plt.show()\n",
        "#KNN for k=5\n",
        "knn = KNeighborsClassifier(n_neighbors=5)\n",
        "knn.fit(data, classes)\n",
        "prediction = knn.predict(new_point)\n",
        "print('For k=5')\n",
        "plt.scatter(x + [new_x], y + [new_y], c=classes + [prediction[0]])\n",
        "plt.text(x=new_x-1.7, y=new_y-0.7, s=f\"new point, class: {prediction[0]}\")\n",
        "plt.show()"
      ],
      "metadata": {
        "id": "IoBbHOwnsnFB"
      },
      "execution_count": null,
      "outputs": []
    }
  ]
}