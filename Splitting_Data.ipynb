{
  "nbformat": 4,
  "nbformat_minor": 0,
  "metadata": {
    "colab": {
      "provenance": [],
      "authorship_tag": "ABX9TyMIML5wPCtLteO/jZLHApvW"
    },
    "kernelspec": {
      "name": "python3",
      "display_name": "Python 3"
    },
    "language_info": {
      "name": "python"
    }
  },
  "cells": [
    {
      "cell_type": "code",
      "execution_count": null,
      "metadata": {
        "id": "ocCAVnvcPSnz"
      },
      "outputs": [],
      "source": []
    },
    {
      "cell_type": "code",
      "execution_count": null,
      "metadata": {
        "colab": {
          "base_uri": "https://localhost:8080/",
          "height": 1000
        },
        "id": "g6feRvQPW-yP",
        "outputId": "4aedfa48-47c6-4b5a-c4f0-b2c8b7b98bc5"
      },
      "outputs": [
        {
          "output_type": "stream",
          "name": "stdout",
          "text": [
            "range(0, 100)\n",
            "60 40\n",
            "60 40\n",
            "Training set:\n",
            "[[0.56285383 0.51644728]\n",
            " [0.46325518 0.95795008]\n",
            " [0.10464696 0.35578253]\n",
            " [0.73020215 0.50146751]\n",
            " [0.51868994 0.1987635 ]\n",
            " [0.94211024 0.50055549]\n",
            " [0.4055957  0.35836947]\n",
            " [0.57231707 0.3355346 ]\n",
            " [0.75646721 0.29652501]\n",
            " [0.84385347 0.31141265]\n",
            " [0.71877463 0.33377014]\n",
            " [0.8503892  0.36552929]\n",
            " [0.44771381 0.02174099]\n",
            " [0.69279187 0.02091329]\n",
            " [0.35395081 0.00576647]\n",
            " [0.99447132 0.1311782 ]\n",
            " [0.77639138 0.58099848]\n",
            " [0.17859718 0.32343504]\n",
            " [0.80028689 0.8137289 ]\n",
            " [0.96339841 0.77224979]\n",
            " [0.38378157 0.81050201]\n",
            " [0.3191529  0.10371155]\n",
            " [0.52676058 0.28482524]\n",
            " [0.17848347 0.27106223]\n",
            " [0.96509296 0.32102457]\n",
            " [0.65946862 0.11163632]\n",
            " [0.19986655 0.88302952]\n",
            " [0.90834049 0.41764252]\n",
            " [0.90876466 0.43237709]\n",
            " [0.98071898 0.88505358]\n",
            " [0.39192799 0.84556181]\n",
            " [0.51966915 0.16643123]\n",
            " [0.12636561 0.48061858]\n",
            " [0.49906613 0.32665637]\n",
            " [0.41985574 0.71475102]\n",
            " [0.25593656 0.70425317]\n",
            " [0.02238274 0.00557073]\n",
            " [0.22002296 0.01976328]\n",
            " [0.16001312 0.24719041]\n",
            " [0.14322503 0.07771904]\n",
            " [0.21722102 0.42335835]\n",
            " [0.17060741 0.50184155]\n",
            " [0.5721136  0.47524213]\n",
            " [0.18250544 0.12353773]\n",
            " [0.39397105 0.38114063]\n",
            " [0.81020712 0.12357257]\n",
            " [0.34323248 0.78872794]\n",
            " [0.18864764 0.2405035 ]\n",
            " [0.58756352 0.03846622]\n",
            " [0.22565203 0.54367298]\n",
            " [0.93151015 0.15828364]\n",
            " [0.12002694 0.77270712]\n",
            " [0.24161432 0.42595912]\n",
            " [0.98302094 0.55340884]\n",
            " [0.76709486 0.58557545]\n",
            " [0.69994276 0.9946874 ]\n",
            " [0.34649313 0.08724378]\n",
            " [0.64504304 0.73157956]\n",
            " [0.79743941 0.23938279]\n",
            " [0.6215297  0.21511012]]\n"
          ]
        },
        {
          "output_type": "display_data",
          "data": {
            "text/plain": [
              "<Figure size 432x288 with 1 Axes>"
            ],
            "image/png": "[encoded data removed]"
          },
          "metadata": {
            "needs_background": "light"
          }
        },
        {
          "output_type": "stream",
          "name": "stdout",
          "text": [
            "test set:\n",
            "[43, 87, 73, 41, 33, 99, 8, 44, 28, 19, 2, 18, 74, 88, 40, 47, 97, 5, 80, 92, 29, 26, 9, 82, 95, 77, 56, 70, 52, 57, 98, 89, 64, 39, 6, 14, 15, 53, 67, 21]\n"
          ]
        },
        {
          "output_type": "display_data",
          "data": {
            "text/plain": [
              "<Figure size 432x288 with 1 Axes>"
            ],
            "image/png": "[encoded data removed]"
          },
          "metadata": {
            "needs_background": "light"
          }
        }
      ],
      "source": [
        "#Holdout\n",
        "import numpy as np\n",
        "from sklearn.model_selection import train_test_split\n",
        "import matplotlib.pyplot as plt\n",
        "X = np.random.rand(100, 2)\n",
        "y = range(100)\n",
        "\n",
        "print(y)\n",
        "X_train, X_test, y_train, y_test = train_test_split(X, y, train_size=0.6, test_size=0.4)\n",
        "print(len(X_train), len(X_test))\n",
        "print(len(y_train), len(y_test))\n",
        "print(\"Training set:\")\n",
        "print(X_train,)\n",
        "plt.scatter(X_train, X_train)\n",
        "plt.show()\n",
        "print(\"test set:\")\n",
        "print( y_test)\n",
        "plt.scatter(y_test, y_test)\n",
        "plt.show()"
      ]
    },
    {
      "cell_type": "code",
      "source": [
        "#K Fold\n",
        "from sklearn import datasets\n",
        "from sklearn.tree import DecisionTreeClassifier\n",
        "from sklearn.model_selection import KFold, cross_val_score\n",
        "X, y = datasets.load_iris(return_X_y=True)\n",
        "clf = DecisionTreeClassifier(random_state=42)\n",
        "k_folds = KFold(n_splits = 5)\n",
        "scores_kcv = cross_val_score(clf, X, y, cv = k_folds)\n",
        "print(\"Cross Validation Scores:\",scores_kcv)\n",
        "print(\"Average CV Score:\",scores_kcv.mean())\n",
        "print(\"Number of CV Scores used in Average:\",len(scores_kcv))"
      ],
      "metadata": {
        "colab": {
          "base_uri": "https://localhost:8080/"
        },
        "id": "mqE2VT7Qbxwn",
        "outputId": "b2ac299f-75ff-4f5b-8809-4db3b0b23c0f"
      },
      "execution_count": null,
      "outputs": [
        {
          "output_type": "stream",
          "name": "stdout",
          "text": [
            "Cross Validation Scores: [1.         1.         0.83333333 0.93333333 0.8       ]\n",
            "Average CV Score: 0.9133333333333333\n",
            "Number of CV Scores used in Average: 5\n"
          ]
        }
      ]
    },
    {
      "cell_type": "code",
      "source": [],
      "metadata": {
        "id": "MxKEMtg1Pq5S"
      },
      "execution_count": null,
      "outputs": []
    },
    {
      "cell_type": "code",
      "source": [
        "#Stratified K Fold\n",
        "from sklearn import datasets\n",
        "from sklearn.tree import DecisionTreeClassifier\n",
        "from sklearn.model_selection import StratifiedKFold, cross_val_score\n",
        "X, y = datasets.load_iris(return_X_y=True)\n",
        "clf = DecisionTreeClassifier(random_state=42)\n",
        "sk_folds = StratifiedKFold(n_splits = 5)\n",
        "scores_strat = cross_val_score(clf, X, y, cv = sk_folds)\n",
        "print(\"Cross Validation Scores: \", scores_strat)\n",
        "print(\"Average CV Score: \", scores_strat.mean())\n",
        "print(\"Number of CV Scores used in Average: \", len(scores_strat))"
      ],
      "metadata": {
        "colab": {
          "base_uri": "https://localhost:8080/"
        },
        "id": "SZ7IIaK7fi2K",
        "outputId": "e97bbb20-0e2a-453e-f28b-979e87328c0c"
      },
      "execution_count": null,
      "outputs": [
        {
          "output_type": "stream",
          "name": "stdout",
          "text": [
            "Cross Validation Scores:  [0.96666667 0.96666667 0.9        0.93333333 1.        ]\n",
            "Average CV Score:  0.9533333333333334\n",
            "Number of CV Scores used in Average:  5\n"
          ]
        }
      ]
    },
    {
      "cell_type": "code",
      "source": [],
      "metadata": {
        "id": "NC_lhp5bPuEm"
      },
      "execution_count": null,
      "outputs": []
    },
    {
      "cell_type": "code",
      "source": [
        "#Leave-One-Out (LOO)\n",
        "from sklearn import datasets\n",
        "from sklearn.tree import DecisionTreeClassifier\n",
        "from sklearn.model_selection import LeaveOneOut, cross_val_score\n",
        "X, y = datasets.load_iris(return_X_y=True)\n",
        "clf = DecisionTreeClassifier(random_state=42)\n",
        "loo = LeaveOneOut()\n",
        "scores_loo = cross_val_score(clf, X, y, cv = loo)\n",
        "print(\"Cross Validation Scores: \", scores_loo)\n",
        "print(\"Average CV Score: \", scores_loo.mean())\n",
        "print(\"Number of CV Scores used in Average: \", len(scores_loo))"
      ],
      "metadata": {
        "colab": {
          "base_uri": "https://localhost:8080/"
        },
        "id": "BPB64kA9gefM",
        "outputId": "8c534892-bd10-41dd-a12c-7666d2695977"
      },
      "execution_count": null,
      "outputs": [
        {
          "output_type": "stream",
          "name": "stdout",
          "text": [
            "Cross Validation Scores:  [1. 1. 1. 1. 1. 1. 1. 1. 1. 1. 1. 1. 1. 1. 1. 1. 1. 1. 1. 1. 1. 1. 1. 1.\n",
            " 1. 1. 1. 1. 1. 1. 1. 1. 1. 1. 1. 1. 1. 1. 1. 1. 1. 1. 1. 1. 1. 1. 1. 1.\n",
            " 1. 1. 1. 1. 1. 1. 1. 1. 1. 0. 1. 1. 1. 1. 1. 1. 1. 1. 1. 1. 1. 1. 0. 1.\n",
            " 1. 1. 1. 1. 1. 0. 1. 1. 1. 1. 1. 0. 1. 1. 1. 1. 1. 1. 1. 1. 1. 1. 1. 1.\n",
            " 1. 1. 1. 1. 1. 1. 1. 1. 1. 1. 0. 1. 1. 1. 1. 1. 1. 1. 1. 1. 1. 1. 1. 0.\n",
            " 1. 1. 1. 1. 1. 1. 1. 1. 1. 0. 1. 1. 1. 0. 1. 1. 1. 1. 0. 1. 1. 1. 1. 1.\n",
            " 1. 1. 1. 1. 1. 1.]\n",
            "Average CV Score:  0.94\n",
            "Number of CV Scores used in Average:  150\n"
          ]
        }
      ]
    },
    {
      "cell_type": "code",
      "source": [],
      "metadata": {
        "id": "zLP6BSdMPyMO"
      },
      "execution_count": null,
      "outputs": []
    },
    {
      "cell_type": "code",
      "source": [
        "#Leave-P-Out (LPO)\n",
        "from sklearn import datasets\n",
        "from sklearn.tree import DecisionTreeClassifier\n",
        "from sklearn.model_selection import LeavePOut, cross_val_score\n",
        "X, y = datasets.load_iris(return_X_y=True)\n",
        "clf = DecisionTreeClassifier(random_state=42)\n",
        "lpo = LeavePOut(p=2)\n",
        "scores_lpo = cross_val_score(clf, X, y, cv = lpo)\n",
        "print(\"Cross Validation Scores: \", scores_lpo)\n",
        "print(\"Average CV Score: \", scores_lpo.mean())\n",
        "print(\"Number of CV Scores used in Average: \", len(scores_lpo))"
      ],
      "metadata": {
        "colab": {
          "base_uri": "https://localhost:8080/"
        },
        "id": "f4indpRghJ40",
        "outputId": "a07c284f-4a18-4225-b43e-b59febdfe07d"
      },
      "execution_count": null,
      "outputs": [
        {
          "output_type": "stream",
          "name": "stdout",
          "text": [
            "Cross Validation Scores:  [1. 1. 1. ... 1. 1. 1.]\n",
            "Average CV Score:  0.9382997762863534\n",
            "Number of CV Scores used in Average:  11175\n"
          ]
        }
      ]
    },
    {
      "cell_type": "code",
      "source": [],
      "metadata": {
        "id": "jX7xYmZOP1Rq"
      },
      "execution_count": null,
      "outputs": []
    },
    {
      "cell_type": "code",
      "source": [
        "#Shuffle Split\n",
        "from sklearn import datasets\n",
        "from sklearn.tree import DecisionTreeClassifier\n",
        "from sklearn.model_selection import ShuffleSplit, cross_val_score\n",
        "X, y = datasets.load_iris(return_X_y=True)\n",
        "clf = DecisionTreeClassifier(random_state=42)\n",
        "ss = ShuffleSplit(train_size=0.6, test_size=0.4, n_splits = 5)\n",
        "scores_shuf = cross_val_score(clf, X, y, cv = ss)\n",
        "print(\"Cross Validation Scores: \", scores_shuf)\n",
        "print(\"Average CV Score: \", scores_shuf.mean())\n",
        "print(\"Number of CV Scores used in Average: \", len(scores_shuf))"
      ],
      "metadata": {
        "colab": {
          "base_uri": "https://localhost:8080/"
        },
        "id": "jxy5n9-0hmyx",
        "outputId": "f55102b9-a462-4582-a203-20c11cb516fe"
      },
      "execution_count": null,
      "outputs": [
        {
          "output_type": "stream",
          "name": "stdout",
          "text": [
            "Cross Validation Scores:  [0.95       0.95       0.96666667 0.95       0.95      ]\n",
            "Average CV Score:  0.9533333333333334\n",
            "Number of CV Scores used in Average:  5\n"
          ]
        }
      ]
    },
    {
      "cell_type": "code",
      "source": [],
      "metadata": {
        "id": "WuxKFiHRP7GS"
      },
      "execution_count": null,
      "outputs": []
    },
    {
      "cell_type": "code",
      "source": [
        "# Comparison\n",
        "# Creating an instance of Texttable class\n",
        "!pip install texttable\n",
        "from texttable import Texttable\n",
        "my_table = Texttable()\n",
        "# Adding rows to our tabular table\n",
        "my_table.add_rows(    [[\"Algorithm\", \"Score\", \"Mean\", \"Number of CV Scores used in Average\"],\n",
        "                       [\"K Fold\",scores_kcv, scores_kcv.mean(), len(scores_kcv)],\n",
        "                       [\"Stratified K Fold\", scores_strat, scores_strat.mean(), len(scores_strat)],\n",
        "                       [\"Leave-One-Out (LOO)\", scores_loo, scores_loo.mean(), len(scores_loo)],\n",
        "                       [\"Leave-P-Out (LPO)\", scores_lpo, scores_lpo.mean(), len(scores_lpo)],\n",
        "                       [\"Shuffle \", scores_shuf, scores_shuf.mean(), len(scores_shuf)],\n",
        "                       ])\n",
        "# Printing Tabulated Data Using draw() function of Texttable Class\n",
        "print(my_table.draw())"
      ],
      "metadata": {
        "colab": {
          "base_uri": "https://localhost:8080/"
        },
        "id": "MEjFyUF2jXrZ",
        "outputId": "65c11225-c632-43b1-84a8-9795bee2ebec"
      },
      "execution_count": null,
      "outputs": [
        {
          "output_type": "stream",
          "name": "stdout",
          "text": [
            "Looking in indexes: https://pypi.org/simple, https://us-python.pkg.dev/colab-wheels/public/simple/\n",
            "Requirement already satisfied: texttable in /usr/local/lib/python3.9/dist-packages (1.6.7)\n",
            "+---------------------+------------------------+-------+-----------------------+\n",
            "|      Algorithm      |         Score          | Mean  |  Number of CV Scores  |\n",
            "|                     |                        |       |    used in Average    |\n",
            "+=====================+========================+=======+=======================+\n",
            "| K Fold              | [1.         1.         | 0.913 | 5                     |\n",
            "|                     | 0.83333333 0.93333333  |       |                       |\n",
            "|                     | 0.8       ]            |       |                       |\n",
            "+---------------------+------------------------+-------+-----------------------+\n",
            "| Stratified K Fold   | [0.96666667 0.96666667 | 0.953 | 5                     |\n",
            "|                     | 0.9        0.93333333  |       |                       |\n",
            "|                     | 1.        ]            |       |                       |\n",
            "+---------------------+------------------------+-------+-----------------------+\n",
            "| Leave-One-Out (LOO) | [1. 1. 1. 1. 1. 1. 1.  | 0.940 | 150                   |\n",
            "|                     | 1. 1. 1. 1. 1. 1. 1.   |       |                       |\n",
            "|                     | 1. 1. 1. 1. 1. 1. 1.   |       |                       |\n",
            "|                     | 1. 1. 1.               |       |                       |\n",
            "|                     |  1. 1. 1. 1. 1. 1. 1.  |       |                       |\n",
            "|                     | 1. 1. 1. 1. 1. 1. 1.   |       |                       |\n",
            "|                     | 1. 1. 1. 1. 1. 1. 1.   |       |                       |\n",
            "|                     | 1. 1. 1.               |       |                       |\n",
            "|                     |  1. 1. 1. 1. 1. 1. 1.  |       |                       |\n",
            "|                     | 1. 1. 0. 1. 1. 1. 1.   |       |                       |\n",
            "|                     | 1. 1. 1. 1. 1. 1. 1.   |       |                       |\n",
            "|                     | 1. 0. 1.               |       |                       |\n",
            "|                     |  1. 1. 1. 1. 1. 0. 1.  |       |                       |\n",
            "|                     | 1. 1. 1. 1. 0. 1. 1.   |       |                       |\n",
            "|                     | 1. 1. 1. 1. 1. 1. 1.   |       |                       |\n",
            "|                     | 1. 1. 1.               |       |                       |\n",
            "|                     |  1. 1. 1. 1. 1. 1. 1.  |       |                       |\n",
            "|                     | 1. 1. 1. 0. 1. 1. 1.   |       |                       |\n",
            "|                     | 1. 1. 1. 1. 1. 1. 1.   |       |                       |\n",
            "|                     | 1. 1. 0.               |       |                       |\n",
            "|                     |  1. 1. 1. 1. 1. 1. 1.  |       |                       |\n",
            "|                     | 1. 1. 0. 1. 1. 1. 0.   |       |                       |\n",
            "|                     | 1. 1. 1. 1. 0. 1. 1.   |       |                       |\n",
            "|                     | 1. 1. 1.               |       |                       |\n",
            "|                     |  1. 1. 1. 1. 1. 1.]    |       |                       |\n",
            "+---------------------+------------------------+-------+-----------------------+\n",
            "| Leave-P-Out (LPO)   | [1. 1. 1. ... 1. 1.    | 0.938 | 11175                 |\n",
            "|                     | 1.]                    |       |                       |\n",
            "+---------------------+------------------------+-------+-----------------------+\n",
            "| Shuffle             | [0.95       0.95       | 0.953 | 5                     |\n",
            "|                     | 0.96666667 0.95        |       |                       |\n",
            "|                     | 0.95      ]            |       |                       |\n",
            "+---------------------+------------------------+-------+-----------------------+\n"
          ]
        }
      ]
    }
  ]
}