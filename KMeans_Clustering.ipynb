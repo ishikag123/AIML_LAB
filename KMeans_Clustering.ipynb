{
  "nbformat": 4,
  "nbformat_minor": 0,
  "metadata": {
    "colab": {
      "provenance": [],
      "authorship_tag": "ABX9TyOHKu1Hywr0vPHqqCPaiaWW"
    },
    "kernelspec": {
      "name": "python3",
      "display_name": "Python 3"
    },
    "language_info": {
      "name": "python"
    }
  },
  "cells": [
    {
      "cell_type": "code",
      "execution_count": null,
      "metadata": {
        "id": "W0oErh6BSzxI"
      },
      "outputs": [],
      "source": []
    },
    {
      "cell_type": "code",
      "source": [
        "## K‐Means Clustering\n",
        "#======================\n",
        "import pandas as pd\n",
        "import matplotlib.pyplot as plt\n",
        "from sklearn.cluster import KMeans\n",
        "# load the customer data into a DataFrame\n",
        "customer_df=pd.read_csv('customer_data.csv')\n",
        "# Check the first 5 rows\n",
        "customer_df.head()"
      ],
      "metadata": {
        "id": "Wh_OA8CbutVH"
      },
      "execution_count": null,
      "outputs": []
    },
    {
      "cell_type": "code",
      "source": [],
      "metadata": {
        "id": "-LA-iCyYS4KA"
      },
      "execution_count": null,
      "outputs": []
    },
    {
      "cell_type": "code",
      "source": [
        "plt.scatter(customer_df['Age'],customer_df['Spending Score (1-100)'])\n",
        "plt.xlabel('Age')\n",
        "plt.ylabel('Spending score')"
      ],
      "metadata": {
        "id": "tcwVYJKfyWV1"
      },
      "execution_count": null,
      "outputs": []
    },
    {
      "cell_type": "code",
      "source": [],
      "metadata": {
        "id": "uHDTwvFbS5a9"
      },
      "execution_count": null,
      "outputs": []
    },
    {
      "cell_type": "code",
      "source": [
        "plt.scatter(customer_df['Age'],customer_df['Annual Income (k$)'])\n",
        "plt.xlabel(\"Age\")\n",
        "plt.ylabel(\"Annual Income\")"
      ],
      "metadata": {
        "id": "5uu68CSZy_X-"
      },
      "execution_count": null,
      "outputs": []
    },
    {
      "cell_type": "code",
      "source": [],
      "metadata": {
        "id": "sP91HfgfS-Uw"
      },
      "execution_count": null,
      "outputs": []
    },
    {
      "cell_type": "code",
      "source": [
        "plt.scatter(customer_df['Spending Score (1-100)'],customer_df['Annual Income (k$)'])\n",
        "plt.xlabel(\"Spending Score\")\n",
        "plt.ylabel(\"Annual Income\")"
      ],
      "metadata": {
        "id": "fsLimTqaL-DD"
      },
      "execution_count": null,
      "outputs": []
    },
    {
      "cell_type": "code",
      "source": [],
      "metadata": {
        "id": "DSa39RU1TClI"
      },
      "execution_count": null,
      "outputs": []
    },
    {
      "cell_type": "code",
      "source": [
        "customer_df.isnull().sum()\n",
        "relevant_cols=['Age','Annual Income (k$)','Spending Score (1-100)']\n",
        "customer_df=customer_df[relevant_cols]"
      ],
      "metadata": {
        "id": "odsQa_j5MKYz"
      },
      "execution_count": null,
      "outputs": []
    },
    {
      "cell_type": "code",
      "source": [
        "from sklearn.preprocessing import StandardScaler\n",
        "scaler=StandardScaler()\n",
        "scaler.fit(customer_df)\n",
        "scaled_data=scaler.transform(customer_df)"
      ],
      "metadata": {
        "id": "FqRePKMqOyPV"
      },
      "execution_count": null,
      "outputs": []
    },
    {
      "cell_type": "code",
      "source": [
        "def find_best_clusters(df,kmax):\n",
        "  cluster_centers=[]\n",
        "  k_values=[]\n",
        "  for k in range(1,kmax):\n",
        "    kmeans_model=KMeans(n_clusters=k)\n",
        "    kmeans_model.fit(df)\n",
        "    cluster_centers.append(kmeans_model.inertia_)\n",
        "    k_values.append(k)\n",
        "  return cluster_centers,k_values"
      ],
      "metadata": {
        "id": "7ar37zFyQTCN"
      },
      "execution_count": null,
      "outputs": []
    },
    {
      "cell_type": "code",
      "source": [
        "def generate_elbow_plot(cluster_centers,k_values):\n",
        "  figure=plt.subplots(figsize=(12,6))\n",
        "  plt.plot(cluster_centers,k_values,'o-',color='orange')\n",
        "  plt.xlabel('Number of Clusters(K)')\n",
        "  plt.ylabel('Cluster Inertia')\n",
        "  plt.title('Elbow Plot of KMeans')\n",
        "  plt.show()"
      ],
      "metadata": {
        "id": "fuJ0BctWSig5"
      },
      "execution_count": null,
      "outputs": []
    },
    {
      "cell_type": "code",
      "source": [
        "cluster_centers,k_values=find_best_clusters(scaled_data,12)\n",
        "generate_elbow_plot(cluster_centers,k_values)"
      ],
      "metadata": {
        "id": "aUHVApC4T04a"
      },
      "execution_count": null,
      "outputs": []
    },
    {
      "cell_type": "code",
      "source": [
        "kmeans_model=KMeans(n_clusters=5)\n",
        "kmeans_model.fit(scaled_data)\n",
        "customer_df['clusters']=kmeans_model.labels_\n",
        "customer_df.head()"
      ],
      "metadata": {
        "id": "RnX1XjpkUEef"
      },
      "execution_count": null,
      "outputs": []
    },
    {
      "cell_type": "code",
      "source": [
        "plt.scatter(customer_df['Spending Score (1-100)'],customer_df['Annual Income (k$)'],c=customer_df['clusters'])"
      ],
      "metadata": {
        "id": "HoNbt9F8Ve1d"
      },
      "execution_count": null,
      "outputs": []
    }
  ]
}